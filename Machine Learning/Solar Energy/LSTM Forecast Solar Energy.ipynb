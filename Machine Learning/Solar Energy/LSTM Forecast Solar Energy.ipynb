{
 "cells": [
  {
   "cell_type": "code",
   "execution_count": 16,
   "metadata": {},
   "outputs": [],
   "source": [
    "import pandas as pd\n",
    "import math\n",
    "import keras\n",
    "import numpy as np\n",
    "#import matplotlib as plt\n",
    "import matplotlib.pyplot as plt\n",
    "from sklearn.preprocessing import MinMaxScaler\n",
    "from keras.models import model_from_json\n",
    "from keras.models import Sequential\n",
    "from keras.layers import Dense\n",
    "from keras.layers import LSTM\n",
    "from keras.layers import Bidirectional\n",
    "from keras.layers import Dropout\n",
    "from kerastuner.tuners import Hyperband\n",
    "from kerastuner.tuners import RandomSearch\n",
    "from kerastuner.engine.hyperparameters import HyperParameters\n",
    "from sklearn.metrics import mean_squared_error\n",
    "from pickle import dump,load\n",
    "import warnings\n",
    "warnings.simplefilter(\"ignore\", UserWarning)\n",
    "import pandas\n",
    "plt.rcParams[\"figure.figsize\"] = (20,10)"
   ]
  },
  {
   "cell_type": "code",
   "execution_count": 21,
   "metadata": {},
   "outputs": [
    {
     "name": "stdout",
     "output_type": "stream",
     "text": [
      "C:\\Users\\Amin y Lubna\\Documents\\GitHub\\Intelligent-Solar-Energy-Manager\\Machine Learning\\Solar Energy\n"
     ]
    }
   ],
   "source": [
    "import os\n",
    "print(os.getcwd())"
   ]
  },
  {
   "cell_type": "code",
   "execution_count": 17,
   "metadata": {},
   "outputs": [],
   "source": [
    "rows_to_skip=16\n",
    "rows_to_read=8760\n",
    "X_data=pd.read_csv('TMYPalma.csv',skiprows=rows_to_skip,nrows=rows_to_read,parse_dates=['time(UTC)'],index_col='time(UTC)')\n",
    "X_data.index=pd.to_datetime(X_data.index, format='%Y%m%d:%H%M')\n",
    "X_data=X_data.drop(columns=['Gb(n)', 'Gd(h)','IR(h)'])\n",
    "X_data=X_data.rename(columns={\"T2m\":\"temp\",\"RH\":\"humidity\",\"G(h)\":\"irradiance\",\"WS10m\":\"speed\",\"WD10m\":\"deg\",\"SP\":\"pressure\"})\n",
    "X_data['Hour']=X_data.index.hour\n",
    "X_data['Month']=X_data.index.month\n",
    "X_data.index = X_data.index.map(lambda x: x.replace(year=2014))"
   ]
  },
  {
   "cell_type": "code",
   "execution_count": 18,
   "metadata": {},
   "outputs": [],
   "source": [
    "def split_data(df,train_size):\n",
    "    train_days=math.floor(len(df)*train_size/24)\n",
    "    train_data,test_data=df.iloc[0:train_days*24],df.iloc[train_days*24:len(df)]\n",
    "    return train_data,test_data"
   ]
  },
  {
   "cell_type": "code",
   "execution_count": 19,
   "metadata": {},
   "outputs": [],
   "source": [
    "def create_trainable_dataset(dataframe,n_inputs,n_outputs):\n",
    "    X,Y=list(),list()\n",
    "    for i in range(len(dataframe)-n_inputs-n_outputs+1):\n",
    "        X.append(dataframe.iloc[i:(i+n_inputs), :])\n",
    "        Y.append(dataframe.iloc[i + n_inputs:i + n_inputs + n_outputs, 2])\n",
    "    return np.array(X), np.array(Y)"
   ]
  },
  {
   "cell_type": "code",
   "execution_count": 20,
   "metadata": {},
   "outputs": [],
   "source": [
    "def scale_data(train_data,test_data):\n",
    "    f_columns=['temp','humidity','speed','deg','pressure','Hour','Month']\n",
    "    f_transformer=MinMaxScaler()\n",
    "    t_transformer=MinMaxScaler()\n",
    "    f_transformer = f_transformer.fit(train_data[f_columns].to_numpy())\n",
    "    t_transformer = t_transformer.fit(train_data[['irradiance']])\n",
    "    train_data.loc[:, f_columns] = f_transformer.transform(train_data[f_columns].to_numpy())\n",
    "    train_data['irradiance'] = t_transformer.transform(train_data[['irradiance']])\n",
    "    test_data.loc[:, f_columns] = f_transformer.transform(test_data[f_columns].to_numpy())\n",
    "    test_data['irradiance'] = t_transformer.transform(test_data[['irradiance']])\n",
    "    return f_transformer,t_transformer,train_data,test_data"
   ]
  },
  {
   "cell_type": "code",
   "execution_count": 15,
   "metadata": {},
   "outputs": [
    {
     "name": "stderr",
     "output_type": "stream",
     "text": [
      "C:\\Users\\Amin y Lubna\\anaconda3\\lib\\site-packages\\pandas\\core\\indexing.py:1736: SettingWithCopyWarning: \n",
      "A value is trying to be set on a copy of a slice from a DataFrame.\n",
      "Try using .loc[row_indexer,col_indexer] = value instead\n",
      "\n",
      "See the caveats in the documentation: https://pandas.pydata.org/pandas-docs/stable/user_guide/indexing.html#returning-a-view-versus-a-copy\n",
      "  isetter(loc, value[:, i].tolist())\n",
      "<ipython-input-14-c6e5b8591122>:8: SettingWithCopyWarning: \n",
      "A value is trying to be set on a copy of a slice from a DataFrame.\n",
      "Try using .loc[row_indexer,col_indexer] = value instead\n",
      "\n",
      "See the caveats in the documentation: https://pandas.pydata.org/pandas-docs/stable/user_guide/indexing.html#returning-a-view-versus-a-copy\n",
      "  train_data['irradiance'] = t_transformer.transform(train_data[['irradiance']])\n",
      "C:\\Users\\Amin y Lubna\\anaconda3\\lib\\site-packages\\pandas\\core\\indexing.py:1736: SettingWithCopyWarning: \n",
      "A value is trying to be set on a copy of a slice from a DataFrame.\n",
      "Try using .loc[row_indexer,col_indexer] = value instead\n",
      "\n",
      "See the caveats in the documentation: https://pandas.pydata.org/pandas-docs/stable/user_guide/indexing.html#returning-a-view-versus-a-copy\n",
      "  isetter(loc, value[:, i].tolist())\n",
      "<ipython-input-14-c6e5b8591122>:10: SettingWithCopyWarning: \n",
      "A value is trying to be set on a copy of a slice from a DataFrame.\n",
      "Try using .loc[row_indexer,col_indexer] = value instead\n",
      "\n",
      "See the caveats in the documentation: https://pandas.pydata.org/pandas-docs/stable/user_guide/indexing.html#returning-a-view-versus-a-copy\n",
      "  test_data['irradiance'] = t_transformer.transform(test_data[['irradiance']])\n"
     ]
    }
   ],
   "source": [
    "n_input=240#10 day 24x10=240 hours\n",
    "n_output=24#1 day 24x10=240 hours\n",
    "train_size=0.8\n",
    "train_data,test_data=split_data(X_data,train_size)\n",
    "f_trans,t_trans,s_train_data,s_test_data=scale_data(train_data,test_data)\n",
    "X_train,Y_train=create_trainable_dataset(s_train_data,n_input,n_output)\n",
    "X_test,Y_test=create_trainable_dataset(s_test_data,n_input,n_output)"
   ]
  },
  {
   "cell_type": "code",
   "execution_count": 56,
   "metadata": {},
   "outputs": [],
   "source": [
    "def build_model(hp):\n",
    "    model = Sequential()\n",
    "    model.add(LSTM(hp.Int('input_unit',min_value=32,max_value=512,step=32),return_sequences=True, input_shape=(X_train.shape[1],X_train.shape[2])))\n",
    "    for i in range(hp.Int('n_layers', 1, 4)):\n",
    "        model.add(LSTM(hp.Int(f'lstm_{i}_units',min_value=32,max_value=512,step=32),return_sequences=True))\n",
    "    model.add(LSTM(hp.Int('layer_2_neurons',min_value=32,max_value=512,step=32)))\n",
    "    model.add(Dropout(hp.Float('Dropout_rate',min_value=0,max_value=0.5,step=0.1)))\n",
    "    model.add(Dense(Y_train.shape[1], activation=hp.Choice('dense_activation',values=['relu', 'sigmoid'],default='relu')))\n",
    "    model.compile(loss='mean_squared_error', optimizer='adam',metrics = ['mse'])\n",
    "    return model"
   ]
  },
  {
   "cell_type": "code",
   "execution_count": null,
   "metadata": {},
   "outputs": [
    {
     "name": "stdout",
     "output_type": "stream",
     "text": [
      "\n",
      "Search: Running Trial #1\n",
      "\n",
      "Hyperparameter    |Value             |Best Value So Far \n",
      "input_unit        |64                |?                 \n",
      "n_layers          |4                 |?                 \n",
      "lstm_0_units      |288               |?                 \n",
      "layer_2_neurons   |128               |?                 \n",
      "Dropout_rate      |0.3               |?                 \n",
      "dense_activation  |sigmoid           |?                 \n",
      "\n",
      "Epoch 1/20\n",
      "53/53 [==============================] - 192s 3s/step - loss: 0.1204 - mse: 0.1204 - val_loss: 0.0389 - val_mse: 0.0389\n",
      "Epoch 2/20\n",
      "53/53 [==============================] - 184s 3s/step - loss: 0.0943 - mse: 0.0943 - val_loss: 0.0391 - val_mse: 0.0391\n",
      "Epoch 3/20\n",
      "53/53 [==============================] - 162s 3s/step - loss: 0.0943 - mse: 0.0943 - val_loss: 0.0421 - val_mse: 0.0421\n",
      "Epoch 4/20\n",
      "53/53 [==============================] - 160s 3s/step - loss: 0.0936 - mse: 0.0936 - val_loss: 0.0411 - val_mse: 0.0411\n",
      "Epoch 5/20\n",
      "53/53 [==============================] - 160s 3s/step - loss: 0.0934 - mse: 0.0934 - val_loss: 0.0391 - val_mse: 0.0391\n",
      "Epoch 6/20\n",
      "53/53 [==============================] - 169s 3s/step - loss: 0.0933 - mse: 0.0933 - val_loss: 0.0434 - val_mse: 0.0434\n",
      "Epoch 7/20\n",
      "53/53 [==============================] - 174s 3s/step - loss: 0.0935 - mse: 0.0935 - val_loss: 0.0561 - val_mse: 0.0561\n",
      "Epoch 8/20\n",
      "53/53 [==============================] - 200s 4s/step - loss: 0.0911 - mse: 0.0911 - val_loss: 0.0526 - val_mse: 0.0526\n",
      "Epoch 9/20\n",
      "53/53 [==============================] - 258s 5s/step - loss: 0.0912 - mse: 0.0912 - val_loss: 0.0521 - val_mse: 0.0521\n",
      "Epoch 10/20\n",
      "53/53 [==============================] - 288s 5s/step - loss: 0.0911 - mse: 0.0911 - val_loss: 0.0543 - val_mse: 0.0543\n",
      "Epoch 11/20\n",
      "44/53 [=======================>......] - ETA: 1:57 - loss: 0.0907 - mse: 0.0907"
     ]
    }
   ],
   "source": [
    "tuner= RandomSearch(\n",
    "        build_model,\n",
    "        objective='mse',\n",
    "        max_trials=10,\n",
    "        executions_per_trial=1\n",
    "        )\n",
    "tuner.search(\n",
    "        x=X_train,\n",
    "        y=Y_train,\n",
    "        epochs=20,\n",
    "        batch_size=128,\n",
    "        validation_data=(X_test,Y_test),\n",
    ")"
   ]
  },
  {
   "cell_type": "code",
   "execution_count": null,
   "metadata": {},
   "outputs": [],
   "source": [
    "best_model = tuner.get_best_models(num_models=1)[0]\n"
   ]
  },
  {
   "cell_type": "code",
   "execution_count": 46,
   "metadata": {},
   "outputs": [],
   "source": [
    "Y_pred=best_model.predict(X_test[0].reshape((1,X_test[0].shape[0], X_test[0].shape[1])))"
   ]
  },
  {
   "cell_type": "code",
   "execution_count": 47,
   "metadata": {},
   "outputs": [
    {
     "name": "stdout",
     "output_type": "stream",
     "text": [
      "[[0.166987]]\n"
     ]
    }
   ],
   "source": [
    "print(Y_pred)"
   ]
  },
  {
   "cell_type": "code",
   "execution_count": 45,
   "metadata": {},
   "outputs": [
    {
     "data": {
      "text/plain": [
       "<function matplotlib.pyplot.legend(*args, **kwargs)>"
      ]
     },
     "execution_count": 45,
     "metadata": {},
     "output_type": "execute_result"
    },
    {
     "data": {
      "image/png": "[encoded data removed]",
      "text/plain": [
       "<Figure size 1440x720 with 1 Axes>"
      ]
     },
     "metadata": {
      "needs_background": "light"
     },
     "output_type": "display_data"
    }
   ],
   "source": [
    "Y_pred_inv=t_trans.inverse_transform(Y_pred.reshape(1,-1))\n",
    "Y_test_inv=t_trans.inverse_transform(Y_test[0].reshape(1,-1))\n",
    "#Y_test_inv=t_transformert.inverse_transform(Y_test)\n",
    "plt.plot(Y_test_inv.flatten(),marker='.',label='Reales')\n",
    "#plt.plot(Y_pred_inv.flatten(),'r',label='Prediccion')\n",
    "plt.legend"
   ]
  },
  {
   "cell_type": "markdown",
   "metadata": {},
   "source": [
    "# Saving model\n",
    "Once the model has been trained has to be saved it, to use it later with streaming data in the Raspberry Pi"
   ]
  },
  {
   "cell_type": "code",
   "execution_count": 27,
   "metadata": {},
   "outputs": [],
   "source": [
    "model_json = model.to_json()\n",
    "with open(\"model.json\", \"w\") as json_file:\n",
    "    json_file.write(model_json)\n",
    "# serialize weights to HDF5\n",
    "model.save_weights(\"model.h5\")\n"
   ]
  },
  {
   "cell_type": "code",
   "execution_count": 28,
   "metadata": {},
   "outputs": [],
   "source": [
    "# load json and create model\n",
    "json_file = open('C:\\\\Users\\\\Amin y Lubna\\\\Desktop\\\\Escritorio Virtual\\\\Carrera Amin\\\\2.TFG\\\\Modelo NN y Scaler\\\\model.json', 'r')\n",
    "loaded_model_json = json_file.read()\n",
    "json_file.close()\n",
    "loaded_model = model_from_json(loaded_model_json)\n",
    "# load weights into new model\n",
    "loaded_model.load_weights(\"C:\\\\Users\\\\Amin y Lubna\\\\Desktop\\\\Escritorio Virtual\\\\Carrera Amin\\\\2.TFG\\Modelo NN y Scaler\\\\model.h5\")"
   ]
  },
  {
   "cell_type": "code",
   "execution_count": 29,
   "metadata": {},
   "outputs": [],
   "source": [
    "dump(t_trans, open('target_scaler.pkl', 'wb'))\n",
    "dump(f_trans, open('feature_scaler.pkl', 'wb'))"
   ]
  },
  {
   "cell_type": "code",
   "execution_count": 30,
   "metadata": {},
   "outputs": [],
   "source": [
    "scaler = load(open('C:\\\\Users\\\\Amin y Lubna\\\\Desktop\\\\Escritorio Virtual\\\\Carrera Amin\\\\2.TFG\\Modelo NN y Scaler\\\\target_scaler.pkl', 'rb'))"
   ]
  },
  {
   "cell_type": "code",
   "execution_count": 45,
   "metadata": {},
   "outputs": [],
   "source": [
    "scaler = load(open('C:\\\\Users\\\\Amin y Lubna\\\\Desktop\\\\Escritorio Virtual\\\\Carrera Amin\\\\2.TFG\\Modelo NN y Scaler\\\\feature_scaler.pkl', 'rb'))\n",
    "    "
   ]
  },
  {
   "cell_type": "code",
   "execution_count": null,
   "metadata": {},
   "outputs": [],
   "source": []
  }
 ],
 "metadata": {
  "kernelspec": {
   "display_name": "Python 3",
   "language": "python",
   "name": "python3"
  },
  "language_info": {
   "codemirror_mode": {
    "name": "ipython",
    "version": 3
   },
   "file_extension": ".py",
   "mimetype": "text/x-python",
   "name": "python",
   "nbconvert_exporter": "python",
   "pygments_lexer": "ipython3",
   "version": "3.8.5"
  }
 },
 "nbformat": 4,
 "nbformat_minor": 4
}
